{
 "cells": [
  {
   "cell_type": "markdown",
   "metadata": {},
   "source": [
    "# Example classification analysis using ShinyLearner"
   ]
  },
  {
   "cell_type": "markdown",
   "metadata": {},
   "source": [
    "*By Erica Suh and Stephen Piccolo*"
   ]
  },
  {
   "cell_type": "markdown",
   "metadata": {},
   "source": [
    "This notebook illustrates how to perform a benchmark comparison of classification algorithms across multiple datasets. We assume the reader has a moderate level of understanding of shell scripting and Python scripting. We also assume that the user's operating system is UNIX-based."
   ]
  },
  {
   "cell_type": "markdown",
   "metadata": {},
   "source": [
    "### Preparing the data"
   ]
  },
  {
   "cell_type": "markdown",
   "metadata": {},
   "source": [
    "The Penn Machine Learning Benchmarks (PMLB) repository contains a large number of datasets that can be used to test machine-learning algorithms. We can access this repository using the Python module named `pmlb`, which can be installed via `pip`."
   ]
  },
  {
   "cell_type": "code",
   "execution_count": null,
   "metadata": {},
   "outputs": [],
   "source": [
    "%%bash\n",
    "\n",
    "# This step may or may not be necessary:\n",
    "pip3 install --upgrade pip\n",
    "\n",
    "# You only need to install this module once\n",
    "pip3 install pmlb"
   ]
  },
  {
   "cell_type": "markdown",
   "metadata": {},
   "source": [
    "For demonstration purposes, we will fetch 10 biology-related datasets from PMLB. First, define a list that indicates the unique identifier for each of these datasets."
   ]
  },
  {
   "cell_type": "code",
   "execution_count": 6,
   "metadata": {},
   "outputs": [],
   "source": [
    "datasets = ['analcatdata_aids',\n",
    "            'ann-thyroid',\n",
    "            'breast-cancer',\n",
    "            'dermatology',\n",
    "            'diabetes',\n",
    "            'hepatitis',\n",
    "            'iris',\n",
    "            'liver-disorder',\n",
    "            'molecular-biology_promoters',\n",
    "            'yeast']"
   ]
  },
  {
   "cell_type": "markdown",
   "metadata": {},
   "source": [
    "PMLB's [GitHub repository](https://github.com/EpistasisLab/penn-ml-benchmarks) demonstrates how `pmlb` is used in Python scripts.\n",
    "\n",
    "ShinyLearner requires that input data files have exactly one feature named 'Class', which includes the class labels. So we must modify the PMLB data to meet this requirement. After modifying the data, we save each DataFrame to a a file with a [supported extension](https://github.com/srp33/ShinyLearner/blob/master/InputFormats.md)."
   ]
  },
  {
   "cell_type": "code",
   "execution_count": 7,
   "metadata": {},
   "outputs": [],
   "source": [
    "from pmlb import fetch_data\n",
    "import os\n",
    "import shutil\n",
    "\n",
    "directory = \"Datasets\"\n",
    "if os.path.exists(directory):\n",
    "    shutil.rmtree(directory)\n",
    "os.makedirs(directory)\n",
    "\n",
    "for data in datasets:\n",
    "    curr_data = fetch_data(data)\n",
    "    curr_data = curr_data.rename(columns={'target': 'Class'})  # Rename 'target' to 'Class'\n",
    "    curr_data.to_csv('{}/{}.tsv'.format(directory, data), sep='\\t', index=True)  # Save to a .tsv file"
   ]
  },
  {
   "cell_type": "markdown",
   "metadata": {},
   "source": [
    "### Performing a benchmark comparison of 10 classification algorithms"
   ]
  },
  {
   "cell_type": "markdown",
   "metadata": {},
   "source": [
    "For this initial analysis, we will apply 10 different classification algorithms to the 10 datasets we have prepared. We will use Monte Carlo cross validation (with *no* hyperparameter optimization). To keep the execution time reasonable, we will only do 5 iterations of Monte Carlo cross validation.\n",
    "\n",
    "ShinyLearner is executed within a Docker container. The ShinyLearner [web application](http://bioapps.byu.edu/shinylearner/) enables us to more easily build commands for executing ShinyLearner within Docker at the command line. We used this tool to create a template command. Below we modify that template and execute ShinyLearner for each dataset. We also indicate that we want to one-hot encode (`--ohe`) and scale the data (`--scale`) and that we want to impute any missing values (`--impute`).\n",
    "\n",
    "(*This process takes several minutes to execute. You won't see any output until the analysis has completed. To facilitate this long-running execution, you could [run this notebook at the command line](https://stackoverflow.com/a/40311709).*)"
   ]
  },
  {
   "cell_type": "code",
   "execution_count": null,
   "metadata": {
    "scrolled": true
   },
   "outputs": [],
   "source": [
    "%%bash\n",
    "\n",
    "function runShinyLearner {\n",
    "  dataset_file_path=\"$1\"  \n",
    "  dataset_file_name=\"$(basename $dataset_file_path)\"\n",
    "  dataset_name=\"${dataset_file_name/\\.tsv/}\"\n",
    "  dataset_results_dir_path=\"$(pwd)/Results_Basic/$dataset_name\"\n",
    "  \n",
    "  mkdir -p \"$dataset_results_dir_path\"\n",
    "\n",
    "  docker run --rm \\\n",
    "    -v \"$(pwd)/Datasets\":/InputData \\\n",
    "    -v \"$dataset_results_dir_path\":/OutputData \\\n",
    "    --user $(id -u):$(id -g) \\\n",
    "    srp33/shinylearner:version508 \\\n",
    "    /UserScripts/classification_montecarlo \\\n",
    "      --data \"$dataset_file_name\" \\\n",
    "      --description \"$dataset_name\" \\\n",
    "      --iterations 5 \\\n",
    "      --classif-algo \"/AlgorithmScripts/Classification/tsv/sklearn/svm/default*\" \\\n",
    "      --classif-algo \"/AlgorithmScripts/Classification/tsv/mlr/earth/default*\" \\\n",
    "      --classif-algo \"/AlgorithmScripts/Classification/tsv/mlr/h2o.randomForest/default*\" \\\n",
    "      --classif-algo \"/AlgorithmScripts/Classification/tsv/sklearn/decision_tree/default*\" \\\n",
    "      --classif-algo \"/AlgorithmScripts/Classification/tsv/sklearn/logistic_regression/default*\" \\\n",
    "      --classif-algo \"/AlgorithmScripts/Classification/arff/weka/HoeffdingTree/default*\" \\\n",
    "      --classif-algo \"/AlgorithmScripts/Classification/arff/weka/MultilayerPerceptron/default*\" \\\n",
    "      --classif-algo \"/AlgorithmScripts/Classification/tsv/mlr/mlp/default*\" \\\n",
    "      --classif-algo \"/AlgorithmScripts/Classification/tsv/sklearn/multilayer_perceptron/default*\" \\\n",
    "      --classif-algo \"/AlgorithmScripts/Classification/arff/weka/SimpleLogistic/default*\" \\\n",
    "      --output-dir \"/OutputData\" \\\n",
    "      --ohe true \\\n",
    "      --scale true \\\n",
    "      --impute true \\\n",
    "      --verbose false\n",
    "}\n",
    "\n",
    "rm -rf Results_Basic\n",
    "\n",
    "for dataset_file_path in ./Datasets/*.tsv\n",
    "do\n",
    "  runShinyLearner \"$dataset_file_path\"\n",
    "done"
   ]
  },
  {
   "cell_type": "markdown",
   "metadata": {},
   "source": [
    "### Repeating the benchmark comparison with hyperparameter optimization"
   ]
  },
  {
   "cell_type": "markdown",
   "metadata": {},
   "source": [
    "ShinyLearner provides an option to optimize a classification algorithm's hyperparameters. To accomplish this, it uses nested cross validation. This process requires more computational time, but it often increases classification accuracy. In the code below, we execute the same 10 classification algorithms on the same 10 datasets. There are some differences in the code below compared to the code above:\n",
    "\n",
    "1. We store the output in `Results_ParamsOptimized` rather than `Results_Basic`.\n",
    "2. We use the `nestedclassification_montecarlo` user script rather than `classification_montecarlo`.\n",
    "3. The path specified for each classification algorithm ends with `*` rather than `default*`. This tells ShinyLearner to evaluate all hyperparameter combinations, not just default ones.\n",
    "4. We indicate that we want to use 5 \"outer\" iterations and 3 \"inner\" iterations (to optimize hyperparameters).\n",
    "\n",
    "(*This process takes several hours to execute. You won't see any output until the analysis has completed. To facilitate this long-running execution, you could [run this notebook at the command line](https://stackoverflow.com/a/40311709).*)"
   ]
  },
  {
   "cell_type": "code",
   "execution_count": null,
   "metadata": {},
   "outputs": [],
   "source": [
    "%%bash\n",
    "\n",
    "function runShinyLearner {\n",
    "  dataset_file_path=\"$1\"\n",
    "  dataset_file_name=\"$(basename $dataset_file_path)\"\n",
    "  dataset_name=\"${dataset_file_name/\\.tsv/}\"\n",
    "  dataset_results_dir_path=\"$(pwd)/Results_ParamsOptimized/$dataset_name\"\n",
    "  \n",
    "  mkdir -p $dataset_results_dir_path\n",
    "\n",
    "  docker run --rm \\\n",
    "    -v \"$(pwd)/Datasets\":/InputData \\\n",
    "    -v \"$dataset_results_dir_path\":/OutputData \\\n",
    "    --user $(id -u):$(id -g) \\\n",
    "    srp33/shinylearner:version508 \\\n",
    "    /UserScripts/nestedclassification_montecarlo \\\n",
    "      --data \"$dataset_file_name\" \\\n",
    "      --description \"$dataset_name\" \\\n",
    "      --outer-iterations 5 \\\n",
    "      --inner-iterations 3 \\\n",
    "      --classif-algo \"/AlgorithmScripts/Classification/tsv/sklearn/svm/*\" \\\n",
    "      --classif-algo \"/AlgorithmScripts/Classification/tsv/mlr/earth/*\" \\\n",
    "      --classif-algo \"/AlgorithmScripts/Classification/tsv/mlr/h2o.randomForest/*\" \\\n",
    "      --classif-algo \"/AlgorithmScripts/Classification/tsv/sklearn/decision_tree/*\" \\\n",
    "      --classif-algo \"/AlgorithmScripts/Classification/tsv/sklearn/logistic_regression/*\" \\\n",
    "      --classif-algo \"/AlgorithmScripts/Classification/arff/weka/HoeffdingTree/*\" \\\n",
    "      --classif-algo \"/AlgorithmScripts/Classification/arff/weka/MultilayerPerceptron/*\" \\\n",
    "      --classif-algo \"/AlgorithmScripts/Classification/tsv/mlr/mlp/*\" \\\n",
    "      --classif-algo \"/AlgorithmScripts/Classification/tsv/sklearn/multilayer_perceptron/*\" \\\n",
    "      --classif-algo \"/AlgorithmScripts/Classification/arff/weka/SimpleLogistic/*\" \\\n",
    "      --ohe true \\\n",
    "      --scale true \\\n",
    "      --impute true \\\n",
    "      --verbose false\n",
    "}\n",
    "\n",
    "rm -rf Results_ParamsOptimized\n",
    "\n",
    "for dataset_file_path in ./Datasets/*.tsv\n",
    "do\n",
    "  runShinyLearner \"$dataset_file_path\"\n",
    "done"
   ]
  },
  {
   "cell_type": "markdown",
   "metadata": {},
   "source": [
    "### Compress output files and clean up"
   ]
  },
  {
   "cell_type": "code",
   "execution_count": 9,
   "metadata": {},
   "outputs": [],
   "source": [
    "%%bash\n",
    "\n",
    "gzip Results_Basic/*/*.tsv\n",
    "gzip Results_ParamsOptimized/*/*.tsv\n",
    "\n",
    "rm -rf Datasets"
   ]
  },
  {
   "cell_type": "markdown",
   "metadata": {},
   "source": [
    "### Analyzing and visualizing the results"
   ]
  },
  {
   "cell_type": "markdown",
   "metadata": {},
   "source": [
    "Please see the document called `Analyze_Results.Rmd`, which contains R code for analyzing and visualizing the results."
   ]
  }
 ],
 "metadata": {
  "kernelspec": {
   "display_name": "Python 3",
   "language": "python",
   "name": "python3"
  },
  "language_info": {
   "codemirror_mode": {
    "name": "ipython",
    "version": 3
   },
   "file_extension": ".py",
   "mimetype": "text/x-python",
   "name": "python",
   "nbconvert_exporter": "python",
   "pygments_lexer": "ipython3",
   "version": "3.7.0"
  }
 },
 "nbformat": 4,
 "nbformat_minor": 2
}
